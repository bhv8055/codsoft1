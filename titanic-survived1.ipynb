{
 "cells": [
  {
   "cell_type": "code",
   "execution_count": 1,
   "id": "85c38fc2",
   "metadata": {
    "_cell_guid": "b1076dfc-b9ad-4769-8c92-a6c4dae69d19",
    "_uuid": "8f2839f25d086af736a60e9eeb907d3b93b6e0e5",
    "execution": {
     "iopub.execute_input": "2024-09-11T17:22:00.303180Z",
     "iopub.status.busy": "2024-09-11T17:22:00.302231Z",
     "iopub.status.idle": "2024-09-11T17:22:02.751334Z",
     "shell.execute_reply": "2024-09-11T17:22:02.750277Z"
    },
    "papermill": {
     "duration": 2.464679,
     "end_time": "2024-09-11T17:22:02.753969",
     "exception": false,
     "start_time": "2024-09-11T17:22:00.289290",
     "status": "completed"
    },
    "tags": []
   },
   "outputs": [],
   "source": [
    "import pandas as pd\n",
    "import seaborn as sns\n",
    "import matplotlib.pyplot as plt\n",
    "from sklearn.preprocessing import MinMaxScaler,LabelEncoder,StandardScaler\n",
    "from sklearn.linear_model import LogisticRegression\n",
    "from sklearn.model_selection import train_test_split\n",
    "from sklearn.metrics import accuracy_score,classification_report,confusion_matrix\n",
    "from sklearn.neighbors import KNeighborsClassifier\n",
    "from sklearn.tree import DecisionTreeClassifier\n",
    "from sklearn.svm import SVC\n"
   ]
  },
  {
   "cell_type": "code",
   "execution_count": 2,
   "id": "3e7410f5",
   "metadata": {
    "execution": {
     "iopub.execute_input": "2024-09-11T17:22:02.778078Z",
     "iopub.status.busy": "2024-09-11T17:22:02.776843Z",
     "iopub.status.idle": "2024-09-11T17:22:02.804706Z",
     "shell.execute_reply": "2024-09-11T17:22:02.803532Z"
    },
    "papermill": {
     "duration": 0.043247,
     "end_time": "2024-09-11T17:22:02.807977",
     "exception": false,
     "start_time": "2024-09-11T17:22:02.764730",
     "status": "completed"
    },
    "tags": []
   },
   "outputs": [],
   "source": [
    "df = pd.read_csv('/kaggle/input/titanic-dataset/Titanic-Dataset.csv')"
   ]
  },
  {
   "cell_type": "code",
   "execution_count": 3,
   "id": "96865efd",
   "metadata": {
    "execution": {
     "iopub.execute_input": "2024-09-11T17:22:02.835594Z",
     "iopub.status.busy": "2024-09-11T17:22:02.834533Z",
     "iopub.status.idle": "2024-09-11T17:22:02.867274Z",
     "shell.execute_reply": "2024-09-11T17:22:02.866125Z"
    },
    "papermill": {
     "duration": 0.047063,
     "end_time": "2024-09-11T17:22:02.869790",
     "exception": false,
     "start_time": "2024-09-11T17:22:02.822727",
     "status": "completed"
    },
    "tags": []
   },
   "outputs": [
    {
     "data": {
      "text/html": [
       "<div>\n",
       "<style scoped>\n",
       "    .dataframe tbody tr th:only-of-type {\n",
       "        vertical-align: middle;\n",
       "    }\n",
       "\n",
       "    .dataframe tbody tr th {\n",
       "        vertical-align: top;\n",
       "    }\n",
       "\n",
       "    .dataframe thead th {\n",
       "        text-align: right;\n",
       "    }\n",
       "</style>\n",
       "<table border=\"1\" class=\"dataframe\">\n",
       "  <thead>\n",
       "    <tr style=\"text-align: right;\">\n",
       "      <th></th>\n",
       "      <th>PassengerId</th>\n",
       "      <th>Survived</th>\n",
       "      <th>Pclass</th>\n",
       "      <th>Name</th>\n",
       "      <th>Sex</th>\n",
       "      <th>Age</th>\n",
       "      <th>SibSp</th>\n",
       "      <th>Parch</th>\n",
       "      <th>Ticket</th>\n",
       "      <th>Fare</th>\n",
       "      <th>Cabin</th>\n",
       "      <th>Embarked</th>\n",
       "    </tr>\n",
       "  </thead>\n",
       "  <tbody>\n",
       "    <tr>\n",
       "      <th>0</th>\n",
       "      <td>1</td>\n",
       "      <td>0</td>\n",
       "      <td>3</td>\n",
       "      <td>Braund, Mr. Owen Harris</td>\n",
       "      <td>male</td>\n",
       "      <td>22.0</td>\n",
       "      <td>1</td>\n",
       "      <td>0</td>\n",
       "      <td>A/5 21171</td>\n",
       "      <td>7.2500</td>\n",
       "      <td>NaN</td>\n",
       "      <td>S</td>\n",
       "    </tr>\n",
       "    <tr>\n",
       "      <th>1</th>\n",
       "      <td>2</td>\n",
       "      <td>1</td>\n",
       "      <td>1</td>\n",
       "      <td>Cumings, Mrs. John Bradley (Florence Briggs Th...</td>\n",
       "      <td>female</td>\n",
       "      <td>38.0</td>\n",
       "      <td>1</td>\n",
       "      <td>0</td>\n",
       "      <td>PC 17599</td>\n",
       "      <td>71.2833</td>\n",
       "      <td>C85</td>\n",
       "      <td>C</td>\n",
       "    </tr>\n",
       "    <tr>\n",
       "      <th>2</th>\n",
       "      <td>3</td>\n",
       "      <td>1</td>\n",
       "      <td>3</td>\n",
       "      <td>Heikkinen, Miss. Laina</td>\n",
       "      <td>female</td>\n",
       "      <td>26.0</td>\n",
       "      <td>0</td>\n",
       "      <td>0</td>\n",
       "      <td>STON/O2. 3101282</td>\n",
       "      <td>7.9250</td>\n",
       "      <td>NaN</td>\n",
       "      <td>S</td>\n",
       "    </tr>\n",
       "    <tr>\n",
       "      <th>3</th>\n",
       "      <td>4</td>\n",
       "      <td>1</td>\n",
       "      <td>1</td>\n",
       "      <td>Futrelle, Mrs. Jacques Heath (Lily May Peel)</td>\n",
       "      <td>female</td>\n",
       "      <td>35.0</td>\n",
       "      <td>1</td>\n",
       "      <td>0</td>\n",
       "      <td>113803</td>\n",
       "      <td>53.1000</td>\n",
       "      <td>C123</td>\n",
       "      <td>S</td>\n",
       "    </tr>\n",
       "    <tr>\n",
       "      <th>4</th>\n",
       "      <td>5</td>\n",
       "      <td>0</td>\n",
       "      <td>3</td>\n",
       "      <td>Allen, Mr. William Henry</td>\n",
       "      <td>male</td>\n",
       "      <td>35.0</td>\n",
       "      <td>0</td>\n",
       "      <td>0</td>\n",
       "      <td>373450</td>\n",
       "      <td>8.0500</td>\n",
       "      <td>NaN</td>\n",
       "      <td>S</td>\n",
       "    </tr>\n",
       "    <tr>\n",
       "      <th>5</th>\n",
       "      <td>6</td>\n",
       "      <td>0</td>\n",
       "      <td>3</td>\n",
       "      <td>Moran, Mr. James</td>\n",
       "      <td>male</td>\n",
       "      <td>NaN</td>\n",
       "      <td>0</td>\n",
       "      <td>0</td>\n",
       "      <td>330877</td>\n",
       "      <td>8.4583</td>\n",
       "      <td>NaN</td>\n",
       "      <td>Q</td>\n",
       "    </tr>\n",
       "    <tr>\n",
       "      <th>6</th>\n",
       "      <td>7</td>\n",
       "      <td>0</td>\n",
       "      <td>1</td>\n",
       "      <td>McCarthy, Mr. Timothy J</td>\n",
       "      <td>male</td>\n",
       "      <td>54.0</td>\n",
       "      <td>0</td>\n",
       "      <td>0</td>\n",
       "      <td>17463</td>\n",
       "      <td>51.8625</td>\n",
       "      <td>E46</td>\n",
       "      <td>S</td>\n",
       "    </tr>\n",
       "    <tr>\n",
       "      <th>7</th>\n",
       "      <td>8</td>\n",
       "      <td>0</td>\n",
       "      <td>3</td>\n",
       "      <td>Palsson, Master. Gosta Leonard</td>\n",
       "      <td>male</td>\n",
       "      <td>2.0</td>\n",
       "      <td>3</td>\n",
       "      <td>1</td>\n",
       "      <td>349909</td>\n",
       "      <td>21.0750</td>\n",
       "      <td>NaN</td>\n",
       "      <td>S</td>\n",
       "    </tr>\n",
       "    <tr>\n",
       "      <th>8</th>\n",
       "      <td>9</td>\n",
       "      <td>1</td>\n",
       "      <td>3</td>\n",
       "      <td>Johnson, Mrs. Oscar W (Elisabeth Vilhelmina Berg)</td>\n",
       "      <td>female</td>\n",
       "      <td>27.0</td>\n",
       "      <td>0</td>\n",
       "      <td>2</td>\n",
       "      <td>347742</td>\n",
       "      <td>11.1333</td>\n",
       "      <td>NaN</td>\n",
       "      <td>S</td>\n",
       "    </tr>\n",
       "    <tr>\n",
       "      <th>9</th>\n",
       "      <td>10</td>\n",
       "      <td>1</td>\n",
       "      <td>2</td>\n",
       "      <td>Nasser, Mrs. Nicholas (Adele Achem)</td>\n",
       "      <td>female</td>\n",
       "      <td>14.0</td>\n",
       "      <td>1</td>\n",
       "      <td>0</td>\n",
       "      <td>237736</td>\n",
       "      <td>30.0708</td>\n",
       "      <td>NaN</td>\n",
       "      <td>C</td>\n",
       "    </tr>\n",
       "  </tbody>\n",
       "</table>\n",
       "</div>"
      ],
      "text/plain": [
       "   PassengerId  Survived  Pclass  \\\n",
       "0            1         0       3   \n",
       "1            2         1       1   \n",
       "2            3         1       3   \n",
       "3            4         1       1   \n",
       "4            5         0       3   \n",
       "5            6         0       3   \n",
       "6            7         0       1   \n",
       "7            8         0       3   \n",
       "8            9         1       3   \n",
       "9           10         1       2   \n",
       "\n",
       "                                                Name     Sex   Age  SibSp  \\\n",
       "0                            Braund, Mr. Owen Harris    male  22.0      1   \n",
       "1  Cumings, Mrs. John Bradley (Florence Briggs Th...  female  38.0      1   \n",
       "2                             Heikkinen, Miss. Laina  female  26.0      0   \n",
       "3       Futrelle, Mrs. Jacques Heath (Lily May Peel)  female  35.0      1   \n",
       "4                           Allen, Mr. William Henry    male  35.0      0   \n",
       "5                                   Moran, Mr. James    male   NaN      0   \n",
       "6                            McCarthy, Mr. Timothy J    male  54.0      0   \n",
       "7                     Palsson, Master. Gosta Leonard    male   2.0      3   \n",
       "8  Johnson, Mrs. Oscar W (Elisabeth Vilhelmina Berg)  female  27.0      0   \n",
       "9                Nasser, Mrs. Nicholas (Adele Achem)  female  14.0      1   \n",
       "\n",
       "   Parch            Ticket     Fare Cabin Embarked  \n",
       "0      0         A/5 21171   7.2500   NaN        S  \n",
       "1      0          PC 17599  71.2833   C85        C  \n",
       "2      0  STON/O2. 3101282   7.9250   NaN        S  \n",
       "3      0            113803  53.1000  C123        S  \n",
       "4      0            373450   8.0500   NaN        S  \n",
       "5      0            330877   8.4583   NaN        Q  \n",
       "6      0             17463  51.8625   E46        S  \n",
       "7      1            349909  21.0750   NaN        S  \n",
       "8      2            347742  11.1333   NaN        S  \n",
       "9      0            237736  30.0708   NaN        C  "
      ]
     },
     "execution_count": 3,
     "metadata": {},
     "output_type": "execute_result"
    }
   ],
   "source": [
    "df.head(10)"
   ]
  },
  {
   "cell_type": "code",
   "execution_count": 4,
   "id": "0f02619d",
   "metadata": {
    "execution": {
     "iopub.execute_input": "2024-09-11T17:22:02.893703Z",
     "iopub.status.busy": "2024-09-11T17:22:02.892981Z",
     "iopub.status.idle": "2024-09-11T17:22:02.915704Z",
     "shell.execute_reply": "2024-09-11T17:22:02.914541Z"
    },
    "papermill": {
     "duration": 0.037675,
     "end_time": "2024-09-11T17:22:02.918478",
     "exception": false,
     "start_time": "2024-09-11T17:22:02.880803",
     "status": "completed"
    },
    "tags": []
   },
   "outputs": [
    {
     "name": "stdout",
     "output_type": "stream",
     "text": [
      "<class 'pandas.core.frame.DataFrame'>\n",
      "RangeIndex: 891 entries, 0 to 890\n",
      "Data columns (total 12 columns):\n",
      " #   Column       Non-Null Count  Dtype  \n",
      "---  ------       --------------  -----  \n",
      " 0   PassengerId  891 non-null    int64  \n",
      " 1   Survived     891 non-null    int64  \n",
      " 2   Pclass       891 non-null    int64  \n",
      " 3   Name         891 non-null    object \n",
      " 4   Sex          891 non-null    object \n",
      " 5   Age          714 non-null    float64\n",
      " 6   SibSp        891 non-null    int64  \n",
      " 7   Parch        891 non-null    int64  \n",
      " 8   Ticket       891 non-null    object \n",
      " 9   Fare         891 non-null    float64\n",
      " 10  Cabin        204 non-null    object \n",
      " 11  Embarked     889 non-null    object \n",
      "dtypes: float64(2), int64(5), object(5)\n",
      "memory usage: 83.7+ KB\n"
     ]
    }
   ],
   "source": [
    "df.info()"
   ]
  },
  {
   "cell_type": "code",
   "execution_count": 5,
   "id": "9e11181a",
   "metadata": {
    "execution": {
     "iopub.execute_input": "2024-09-11T17:22:02.948615Z",
     "iopub.status.busy": "2024-09-11T17:22:02.947532Z",
     "iopub.status.idle": "2024-09-11T17:22:02.958280Z",
     "shell.execute_reply": "2024-09-11T17:22:02.957075Z"
    },
    "papermill": {
     "duration": 0.025413,
     "end_time": "2024-09-11T17:22:02.960555",
     "exception": false,
     "start_time": "2024-09-11T17:22:02.935142",
     "status": "completed"
    },
    "tags": []
   },
   "outputs": [
    {
     "data": {
      "text/plain": [
       "PassengerId      0\n",
       "Survived         0\n",
       "Pclass           0\n",
       "Name             0\n",
       "Sex              0\n",
       "Age            177\n",
       "SibSp            0\n",
       "Parch            0\n",
       "Ticket           0\n",
       "Fare             0\n",
       "Cabin          687\n",
       "Embarked         2\n",
       "dtype: int64"
      ]
     },
     "execution_count": 5,
     "metadata": {},
     "output_type": "execute_result"
    }
   ],
   "source": [
    "df.isnull().sum()"
   ]
  },
  {
   "cell_type": "code",
   "execution_count": 6,
   "id": "5b02b215",
   "metadata": {
    "execution": {
     "iopub.execute_input": "2024-09-11T17:22:02.985242Z",
     "iopub.status.busy": "2024-09-11T17:22:02.984204Z",
     "iopub.status.idle": "2024-09-11T17:22:02.993250Z",
     "shell.execute_reply": "2024-09-11T17:22:02.992215Z"
    },
    "papermill": {
     "duration": 0.023571,
     "end_time": "2024-09-11T17:22:02.995555",
     "exception": false,
     "start_time": "2024-09-11T17:22:02.971984",
     "status": "completed"
    },
    "tags": []
   },
   "outputs": [],
   "source": [
    "df.drop(['Cabin'],axis = 1, inplace = True)"
   ]
  },
  {
   "cell_type": "code",
   "execution_count": 7,
   "id": "990a60b7",
   "metadata": {
    "execution": {
     "iopub.execute_input": "2024-09-11T17:22:03.019863Z",
     "iopub.status.busy": "2024-09-11T17:22:03.018961Z",
     "iopub.status.idle": "2024-09-11T17:22:03.028090Z",
     "shell.execute_reply": "2024-09-11T17:22:03.027102Z"
    },
    "papermill": {
     "duration": 0.023527,
     "end_time": "2024-09-11T17:22:03.030312",
     "exception": false,
     "start_time": "2024-09-11T17:22:03.006785",
     "status": "completed"
    },
    "tags": []
   },
   "outputs": [],
   "source": [
    "df.dropna(inplace = True)"
   ]
  },
  {
   "cell_type": "code",
   "execution_count": 8,
   "id": "3d1798e6",
   "metadata": {
    "execution": {
     "iopub.execute_input": "2024-09-11T17:22:03.054804Z",
     "iopub.status.busy": "2024-09-11T17:22:03.053736Z",
     "iopub.status.idle": "2024-09-11T17:22:03.067221Z",
     "shell.execute_reply": "2024-09-11T17:22:03.066171Z"
    },
    "papermill": {
     "duration": 0.029328,
     "end_time": "2024-09-11T17:22:03.070566",
     "exception": false,
     "start_time": "2024-09-11T17:22:03.041238",
     "status": "completed"
    },
    "tags": []
   },
   "outputs": [
    {
     "name": "stdout",
     "output_type": "stream",
     "text": [
      "<class 'pandas.core.frame.DataFrame'>\n",
      "Index: 712 entries, 0 to 890\n",
      "Data columns (total 11 columns):\n",
      " #   Column       Non-Null Count  Dtype  \n",
      "---  ------       --------------  -----  \n",
      " 0   PassengerId  712 non-null    int64  \n",
      " 1   Survived     712 non-null    int64  \n",
      " 2   Pclass       712 non-null    int64  \n",
      " 3   Name         712 non-null    object \n",
      " 4   Sex          712 non-null    object \n",
      " 5   Age          712 non-null    float64\n",
      " 6   SibSp        712 non-null    int64  \n",
      " 7   Parch        712 non-null    int64  \n",
      " 8   Ticket       712 non-null    object \n",
      " 9   Fare         712 non-null    float64\n",
      " 10  Embarked     712 non-null    object \n",
      "dtypes: float64(2), int64(5), object(4)\n",
      "memory usage: 66.8+ KB\n"
     ]
    }
   ],
   "source": [
    "df.info()"
   ]
  },
  {
   "cell_type": "code",
   "execution_count": 9,
   "id": "9596cf76",
   "metadata": {
    "execution": {
     "iopub.execute_input": "2024-09-11T17:22:03.101879Z",
     "iopub.status.busy": "2024-09-11T17:22:03.100934Z",
     "iopub.status.idle": "2024-09-11T17:22:03.113808Z",
     "shell.execute_reply": "2024-09-11T17:22:03.112712Z"
    },
    "papermill": {
     "duration": 0.028074,
     "end_time": "2024-09-11T17:22:03.116167",
     "exception": false,
     "start_time": "2024-09-11T17:22:03.088093",
     "status": "completed"
    },
    "tags": []
   },
   "outputs": [
    {
     "data": {
      "text/plain": [
       "0"
      ]
     },
     "execution_count": 9,
     "metadata": {},
     "output_type": "execute_result"
    }
   ],
   "source": [
    "df.duplicated().sum()"
   ]
  },
  {
   "cell_type": "code",
   "execution_count": 10,
   "id": "f3240cb6",
   "metadata": {
    "execution": {
     "iopub.execute_input": "2024-09-11T17:22:03.141181Z",
     "iopub.status.busy": "2024-09-11T17:22:03.140667Z",
     "iopub.status.idle": "2024-09-11T17:22:03.149119Z",
     "shell.execute_reply": "2024-09-11T17:22:03.147674Z"
    },
    "papermill": {
     "duration": 0.024092,
     "end_time": "2024-09-11T17:22:03.151765",
     "exception": false,
     "start_time": "2024-09-11T17:22:03.127673",
     "status": "completed"
    },
    "tags": []
   },
   "outputs": [],
   "source": [
    "survived_counts = df['Survived'].value_counts()"
   ]
  },
  {
   "cell_type": "code",
   "execution_count": 11,
   "id": "28643870",
   "metadata": {
    "execution": {
     "iopub.execute_input": "2024-09-11T17:22:03.177088Z",
     "iopub.status.busy": "2024-09-11T17:22:03.176164Z",
     "iopub.status.idle": "2024-09-11T17:22:03.185021Z",
     "shell.execute_reply": "2024-09-11T17:22:03.183786Z"
    },
    "papermill": {
     "duration": 0.02414,
     "end_time": "2024-09-11T17:22:03.187341",
     "exception": false,
     "start_time": "2024-09-11T17:22:03.163201",
     "status": "completed"
    },
    "tags": []
   },
   "outputs": [
    {
     "data": {
      "text/plain": [
       "Survived\n",
       "0    424\n",
       "1    288\n",
       "Name: count, dtype: int64"
      ]
     },
     "execution_count": 11,
     "metadata": {},
     "output_type": "execute_result"
    }
   ],
   "source": [
    "survived_counts"
   ]
  },
  {
   "cell_type": "code",
   "execution_count": 12,
   "id": "1532fb37",
   "metadata": {
    "execution": {
     "iopub.execute_input": "2024-09-11T17:22:03.212704Z",
     "iopub.status.busy": "2024-09-11T17:22:03.211516Z",
     "iopub.status.idle": "2024-09-11T17:22:03.386549Z",
     "shell.execute_reply": "2024-09-11T17:22:03.385278Z"
    },
    "papermill": {
     "duration": 0.191543,
     "end_time": "2024-09-11T17:22:03.390347",
     "exception": false,
     "start_time": "2024-09-11T17:22:03.198804",
     "status": "completed"
    },
    "tags": []
   },
   "outputs": [
    {
     "data": {
      "image/png": "[encoded data removed]",
      "text/plain": [
       "<Figure size 800x600 with 1 Axes>"
      ]
     },
     "metadata": {},
     "output_type": "display_data"
    }
   ],
   "source": [
    "plt.figure(figsize=(8,6))\n",
    "plt.pie(survived_counts,labels=['No','Yes'],autopct='%1.1f%%',colors = ['#FF9999','#66B2FF'],startangle = 90)\n",
    "plt.title('Survived Proportion')\n",
    "plt.show()"
   ]
  },
  {
   "cell_type": "code",
   "execution_count": 13,
   "id": "381f7c5f",
   "metadata": {
    "execution": {
     "iopub.execute_input": "2024-09-11T17:22:03.434947Z",
     "iopub.status.busy": "2024-09-11T17:22:03.432279Z",
     "iopub.status.idle": "2024-09-11T17:22:03.675007Z",
     "shell.execute_reply": "2024-09-11T17:22:03.673971Z"
    },
    "papermill": {
     "duration": 0.267287,
     "end_time": "2024-09-11T17:22:03.677228",
     "exception": false,
     "start_time": "2024-09-11T17:22:03.409941",
     "status": "completed"
    },
    "tags": []
   },
   "outputs": [
    {
     "data": {
      "image/png": "[encoded data removed]",
      "text/plain": [
       "<Figure size 800x600 with 1 Axes>"
      ]
     },
     "metadata": {},
     "output_type": "display_data"
    }
   ],
   "source": [
    "plt.figure(figsize =(8,6))\n",
    "sns.barplot(x=survived_counts.index,y=survived_counts.values,palette = 'viridis')\n",
    "plt.title('Survival counts')\n",
    "plt.xlabel('Survived(1=Yes,0=No)')\n",
    "plt.ylabel('Number of passengers')\n",
    "plt.xticks([0,1],['No','Yes'])\n",
    "plt.show()"
   ]
  },
  {
   "cell_type": "code",
   "execution_count": null,
   "id": "b6ecc9bb",
   "metadata": {
    "papermill": {
     "duration": 0.011483,
     "end_time": "2024-09-11T17:22:03.700611",
     "exception": false,
     "start_time": "2024-09-11T17:22:03.689128",
     "status": "completed"
    },
    "tags": []
   },
   "outputs": [],
   "source": []
  },
  {
   "cell_type": "code",
   "execution_count": 14,
   "id": "4a62f00d",
   "metadata": {
    "execution": {
     "iopub.execute_input": "2024-09-11T17:22:03.726281Z",
     "iopub.status.busy": "2024-09-11T17:22:03.725493Z",
     "iopub.status.idle": "2024-09-11T17:22:03.733505Z",
     "shell.execute_reply": "2024-09-11T17:22:03.732503Z"
    },
    "papermill": {
     "duration": 0.023142,
     "end_time": "2024-09-11T17:22:03.735608",
     "exception": false,
     "start_time": "2024-09-11T17:22:03.712466",
     "status": "completed"
    },
    "tags": []
   },
   "outputs": [
    {
     "data": {
      "text/plain": [
       "Pclass\n",
       "3    355\n",
       "1    184\n",
       "2    173\n",
       "Name: count, dtype: int64"
      ]
     },
     "execution_count": 14,
     "metadata": {},
     "output_type": "execute_result"
    }
   ],
   "source": [
    "#Pclass column\n",
    "df['Pclass'].value_counts()"
   ]
  },
  {
   "cell_type": "code",
   "execution_count": 15,
   "id": "795191b5",
   "metadata": {
    "execution": {
     "iopub.execute_input": "2024-09-11T17:22:03.761694Z",
     "iopub.status.busy": "2024-09-11T17:22:03.760800Z",
     "iopub.status.idle": "2024-09-11T17:22:03.990515Z",
     "shell.execute_reply": "2024-09-11T17:22:03.989394Z"
    },
    "papermill": {
     "duration": 0.245063,
     "end_time": "2024-09-11T17:22:03.992745",
     "exception": false,
     "start_time": "2024-09-11T17:22:03.747682",
     "status": "completed"
    },
    "tags": []
   },
   "outputs": [
    {
     "name": "stderr",
     "output_type": "stream",
     "text": [
      "/opt/conda/lib/python3.10/site-packages/seaborn/_oldcore.py:1765: FutureWarning: unique with argument that is not not a Series, Index, ExtensionArray, or np.ndarray is deprecated and will raise in a future version.\n",
      "  order = pd.unique(vector)\n"
     ]
    },
    {
     "data": {
      "image/png": "[encoded data removed]",
      "text/plain": [
       "<Figure size 640x480 with 1 Axes>"
      ]
     },
     "metadata": {},
     "output_type": "display_data"
    }
   ],
   "source": [
    "sns.barplot(x=[1,2,3],y=df['Pclass'].value_counts(),palette='viridis')\n",
    "plt.title(\"ticket class count\")\n",
    "plt.ylabel('number of tickets')\n",
    "plt.xlabel('ticket classes')\n",
    "plt.show()"
   ]
  },
  {
   "cell_type": "code",
   "execution_count": 16,
   "id": "7b905f38",
   "metadata": {
    "execution": {
     "iopub.execute_input": "2024-09-11T17:22:04.020015Z",
     "iopub.status.busy": "2024-09-11T17:22:04.019218Z",
     "iopub.status.idle": "2024-09-11T17:22:04.027364Z",
     "shell.execute_reply": "2024-09-11T17:22:04.026381Z"
    },
    "papermill": {
     "duration": 0.023977,
     "end_time": "2024-09-11T17:22:04.029368",
     "exception": false,
     "start_time": "2024-09-11T17:22:04.005391",
     "status": "completed"
    },
    "tags": []
   },
   "outputs": [
    {
     "data": {
      "text/plain": [
       "Sex\n",
       "male      453\n",
       "female    259\n",
       "Name: count, dtype: int64"
      ]
     },
     "execution_count": 16,
     "metadata": {},
     "output_type": "execute_result"
    }
   ],
   "source": [
    "#Gender column\n",
    "df.Sex.value_counts()"
   ]
  },
  {
   "cell_type": "code",
   "execution_count": 17,
   "id": "418779c1",
   "metadata": {
    "execution": {
     "iopub.execute_input": "2024-09-11T17:22:04.056818Z",
     "iopub.status.busy": "2024-09-11T17:22:04.055964Z",
     "iopub.status.idle": "2024-09-11T17:22:04.256796Z",
     "shell.execute_reply": "2024-09-11T17:22:04.255511Z"
    },
    "papermill": {
     "duration": 0.217019,
     "end_time": "2024-09-11T17:22:04.258983",
     "exception": false,
     "start_time": "2024-09-11T17:22:04.041964",
     "status": "completed"
    },
    "tags": []
   },
   "outputs": [
    {
     "name": "stderr",
     "output_type": "stream",
     "text": [
      "/opt/conda/lib/python3.10/site-packages/seaborn/_oldcore.py:1765: FutureWarning: unique with argument that is not not a Series, Index, ExtensionArray, or np.ndarray is deprecated and will raise in a future version.\n",
      "  order = pd.unique(vector)\n"
     ]
    },
    {
     "data": {
      "image/png": "[encoded data removed]",
      "text/plain": [
       "<Figure size 640x480 with 1 Axes>"
      ]
     },
     "metadata": {},
     "output_type": "display_data"
    }
   ],
   "source": [
    "sns.barplot(x=['Male','Female'],y=df.Sex.value_counts(),palette='viridis')\n",
    "plt.title(\"Gender Table\")\n",
    "plt.xlabel('Gender Type')\n",
    "plt.ylabel('Gender Count')\n",
    "plt.show()\n"
   ]
  },
  {
   "cell_type": "code",
   "execution_count": 18,
   "id": "57172ef0",
   "metadata": {
    "execution": {
     "iopub.execute_input": "2024-09-11T17:22:04.286481Z",
     "iopub.status.busy": "2024-09-11T17:22:04.286057Z",
     "iopub.status.idle": "2024-09-11T17:22:04.298316Z",
     "shell.execute_reply": "2024-09-11T17:22:04.297313Z"
    },
    "papermill": {
     "duration": 0.028726,
     "end_time": "2024-09-11T17:22:04.300586",
     "exception": false,
     "start_time": "2024-09-11T17:22:04.271860",
     "status": "completed"
    },
    "tags": []
   },
   "outputs": [
    {
     "data": {
      "text/plain": [
       "count    712.000000\n",
       "mean      29.642093\n",
       "std       14.492933\n",
       "min        0.420000\n",
       "25%       20.000000\n",
       "50%       28.000000\n",
       "75%       38.000000\n",
       "max       80.000000\n",
       "Name: Age, dtype: float64"
      ]
     },
     "execution_count": 18,
     "metadata": {},
     "output_type": "execute_result"
    }
   ],
   "source": [
    "df.Age.describe()\n"
   ]
  },
  {
   "cell_type": "code",
   "execution_count": 19,
   "id": "1c74279e",
   "metadata": {
    "execution": {
     "iopub.execute_input": "2024-09-11T17:22:04.329081Z",
     "iopub.status.busy": "2024-09-11T17:22:04.328084Z",
     "iopub.status.idle": "2024-09-11T17:22:04.623623Z",
     "shell.execute_reply": "2024-09-11T17:22:04.622499Z"
    },
    "papermill": {
     "duration": 0.312298,
     "end_time": "2024-09-11T17:22:04.626132",
     "exception": false,
     "start_time": "2024-09-11T17:22:04.313834",
     "status": "completed"
    },
    "tags": []
   },
   "outputs": [
    {
     "name": "stderr",
     "output_type": "stream",
     "text": [
      "/opt/conda/lib/python3.10/site-packages/seaborn/_oldcore.py:1119: FutureWarning: use_inf_as_na option is deprecated and will be removed in a future version. Convert inf values to NaN before operating instead.\n",
      "  with pd.option_context('mode.use_inf_as_na', True):\n"
     ]
    },
    {
     "data": {
      "image/png": "[encoded data removed]",
      "text/plain": [
       "<Figure size 640x480 with 1 Axes>"
      ]
     },
     "metadata": {},
     "output_type": "display_data"
    }
   ],
   "source": [
    "sns.histplot(x=df['Age'],bins=20)\n",
    "plt.title(\"Age Distribution Table\")\n",
    "plt.xlabel(\"Age\")\n",
    "plt.ylabel('Age Count')\n",
    "plt.show()\n"
   ]
  },
  {
   "cell_type": "code",
   "execution_count": 20,
   "id": "9447d708",
   "metadata": {
    "execution": {
     "iopub.execute_input": "2024-09-11T17:22:04.655389Z",
     "iopub.status.busy": "2024-09-11T17:22:04.654613Z",
     "iopub.status.idle": "2024-09-11T17:22:04.663155Z",
     "shell.execute_reply": "2024-09-11T17:22:04.661904Z"
    },
    "papermill": {
     "duration": 0.025548,
     "end_time": "2024-09-11T17:22:04.665364",
     "exception": false,
     "start_time": "2024-09-11T17:22:04.639816",
     "status": "completed"
    },
    "tags": []
   },
   "outputs": [
    {
     "data": {
      "text/plain": [
       "SibSp\n",
       "0    469\n",
       "1    183\n",
       "2     25\n",
       "4     18\n",
       "3     12\n",
       "5      5\n",
       "Name: count, dtype: int64"
      ]
     },
     "execution_count": 20,
     "metadata": {},
     "output_type": "execute_result"
    }
   ],
   "source": [
    "df.SibSp.value_counts()\n"
   ]
  },
  {
   "cell_type": "code",
   "execution_count": 21,
   "id": "b434688b",
   "metadata": {
    "execution": {
     "iopub.execute_input": "2024-09-11T17:22:04.695714Z",
     "iopub.status.busy": "2024-09-11T17:22:04.694556Z",
     "iopub.status.idle": "2024-09-11T17:22:04.958897Z",
     "shell.execute_reply": "2024-09-11T17:22:04.957886Z"
    },
    "papermill": {
     "duration": 0.281963,
     "end_time": "2024-09-11T17:22:04.961323",
     "exception": false,
     "start_time": "2024-09-11T17:22:04.679360",
     "status": "completed"
    },
    "tags": []
   },
   "outputs": [
    {
     "name": "stderr",
     "output_type": "stream",
     "text": [
      "/opt/conda/lib/python3.10/site-packages/seaborn/_oldcore.py:1765: FutureWarning: unique with argument that is not not a Series, Index, ExtensionArray, or np.ndarray is deprecated and will raise in a future version.\n",
      "  order = pd.unique(vector)\n",
      "/opt/conda/lib/python3.10/site-packages/seaborn/_oldcore.py:1765: FutureWarning: unique with argument that is not not a Series, Index, ExtensionArray, or np.ndarray is deprecated and will raise in a future version.\n",
      "  order = pd.unique(vector)\n"
     ]
    },
    {
     "data": {
      "text/plain": [
       "count    712.000000\n",
       "mean      34.567251\n",
       "std       52.938648\n",
       "min        0.000000\n",
       "25%        8.050000\n",
       "50%       15.645850\n",
       "75%       33.000000\n",
       "max      512.329200\n",
       "Name: Fare, dtype: float64"
      ]
     },
     "execution_count": 21,
     "metadata": {},
     "output_type": "execute_result"
    },
    {
     "data": {
      "image/png": "[encoded data removed]",
      "text/plain": [
       "<Figure size 640x480 with 1 Axes>"
      ]
     },
     "metadata": {},
     "output_type": "display_data"
    }
   ],
   "source": [
    "sns.barplot(x=['0','1','2','3','4','5'],y=df.SibSp.value_counts(),palette='viridis')\n",
    "df.Parch.value_counts()\n",
    "\n",
    "sns.barplot(x=['0','1','2','3','4','5','6'],y=df.Parch.value_counts(),palette='viridis')\n",
    "df.Fare.describe()"
   ]
  },
  {
   "cell_type": "code",
   "execution_count": 22,
   "id": "db74e811",
   "metadata": {
    "execution": {
     "iopub.execute_input": "2024-09-11T17:22:04.991160Z",
     "iopub.status.busy": "2024-09-11T17:22:04.990753Z",
     "iopub.status.idle": "2024-09-11T17:22:05.333372Z",
     "shell.execute_reply": "2024-09-11T17:22:05.332226Z"
    },
    "papermill": {
     "duration": 0.360583,
     "end_time": "2024-09-11T17:22:05.335993",
     "exception": false,
     "start_time": "2024-09-11T17:22:04.975410",
     "status": "completed"
    },
    "tags": []
   },
   "outputs": [
    {
     "name": "stderr",
     "output_type": "stream",
     "text": [
      "/opt/conda/lib/python3.10/site-packages/seaborn/_oldcore.py:1119: FutureWarning: use_inf_as_na option is deprecated and will be removed in a future version. Convert inf values to NaN before operating instead.\n",
      "  with pd.option_context('mode.use_inf_as_na', True):\n"
     ]
    },
    {
     "data": {
      "text/plain": [
       "Text(0, 0.5, 'Fair Price')"
      ]
     },
     "execution_count": 22,
     "metadata": {},
     "output_type": "execute_result"
    },
    {
     "data": {
      "image/png": "[encoded data removed]",
      "text/plain": [
       "<Figure size 640x480 with 1 Axes>"
      ]
     },
     "metadata": {},
     "output_type": "display_data"
    }
   ],
   "source": [
    "sns.histplot(df['Fare'], bins=20)\n",
    "plt.title(\"Fare Distribution\")\n",
    "plt.xlabel(\"Fare\")\n",
    "plt.ylabel(\"Fair Price\")\n"
   ]
  },
  {
   "cell_type": "code",
   "execution_count": 23,
   "id": "c2ef441f",
   "metadata": {
    "execution": {
     "iopub.execute_input": "2024-09-11T17:22:05.369620Z",
     "iopub.status.busy": "2024-09-11T17:22:05.368531Z",
     "iopub.status.idle": "2024-09-11T17:22:05.378713Z",
     "shell.execute_reply": "2024-09-11T17:22:05.377098Z"
    },
    "papermill": {
     "duration": 0.030067,
     "end_time": "2024-09-11T17:22:05.381182",
     "exception": false,
     "start_time": "2024-09-11T17:22:05.351115",
     "status": "completed"
    },
    "tags": []
   },
   "outputs": [
    {
     "name": "stdout",
     "output_type": "stream",
     "text": [
      "70.425\n",
      "-29.374999999999996\n"
     ]
    }
   ],
   "source": [
    "Q1= df['Fare'].quantile(0.25)\n",
    "Q3=df['Fare'].quantile(0.75)\n",
    "\n",
    "IQR=Q3-Q1\n",
    "\n",
    "upper=Q3 + 1.5*IQR\n",
    "Lower=Q1 - 1.5*IQR\n",
    "\n",
    "print(upper)\n",
    "print(Lower)\n",
    "\n"
   ]
  },
  {
   "cell_type": "code",
   "execution_count": 24,
   "id": "f951198a",
   "metadata": {
    "execution": {
     "iopub.execute_input": "2024-09-11T17:22:05.413360Z",
     "iopub.status.busy": "2024-09-11T17:22:05.412334Z",
     "iopub.status.idle": "2024-09-11T17:22:05.431077Z",
     "shell.execute_reply": "2024-09-11T17:22:05.429934Z"
    },
    "papermill": {
     "duration": 0.037236,
     "end_time": "2024-09-11T17:22:05.433322",
     "exception": false,
     "start_time": "2024-09-11T17:22:05.396086",
     "status": "completed"
    },
    "tags": []
   },
   "outputs": [
    {
     "data": {
      "text/html": [
       "<div>\n",
       "<style scoped>\n",
       "    .dataframe tbody tr th:only-of-type {\n",
       "        vertical-align: middle;\n",
       "    }\n",
       "\n",
       "    .dataframe tbody tr th {\n",
       "        vertical-align: top;\n",
       "    }\n",
       "\n",
       "    .dataframe thead th {\n",
       "        text-align: right;\n",
       "    }\n",
       "</style>\n",
       "<table border=\"1\" class=\"dataframe\">\n",
       "  <thead>\n",
       "    <tr style=\"text-align: right;\">\n",
       "      <th></th>\n",
       "      <th>PassengerId</th>\n",
       "      <th>Survived</th>\n",
       "      <th>Pclass</th>\n",
       "      <th>Name</th>\n",
       "      <th>Sex</th>\n",
       "      <th>Age</th>\n",
       "      <th>SibSp</th>\n",
       "      <th>Parch</th>\n",
       "      <th>Ticket</th>\n",
       "      <th>Fare</th>\n",
       "      <th>Embarked</th>\n",
       "    </tr>\n",
       "  </thead>\n",
       "  <tbody>\n",
       "    <tr>\n",
       "      <th>1</th>\n",
       "      <td>2</td>\n",
       "      <td>1</td>\n",
       "      <td>1</td>\n",
       "      <td>Cumings, Mrs. John Bradley (Florence Briggs Th...</td>\n",
       "      <td>female</td>\n",
       "      <td>38.0</td>\n",
       "      <td>1</td>\n",
       "      <td>0</td>\n",
       "      <td>PC 17599</td>\n",
       "      <td>71.2833</td>\n",
       "      <td>C</td>\n",
       "    </tr>\n",
       "    <tr>\n",
       "      <th>27</th>\n",
       "      <td>28</td>\n",
       "      <td>0</td>\n",
       "      <td>1</td>\n",
       "      <td>Fortune, Mr. Charles Alexander</td>\n",
       "      <td>male</td>\n",
       "      <td>19.0</td>\n",
       "      <td>3</td>\n",
       "      <td>2</td>\n",
       "      <td>19950</td>\n",
       "      <td>263.0000</td>\n",
       "      <td>S</td>\n",
       "    </tr>\n",
       "    <tr>\n",
       "      <th>34</th>\n",
       "      <td>35</td>\n",
       "      <td>0</td>\n",
       "      <td>1</td>\n",
       "      <td>Meyer, Mr. Edgar Joseph</td>\n",
       "      <td>male</td>\n",
       "      <td>28.0</td>\n",
       "      <td>1</td>\n",
       "      <td>0</td>\n",
       "      <td>PC 17604</td>\n",
       "      <td>82.1708</td>\n",
       "      <td>C</td>\n",
       "    </tr>\n",
       "    <tr>\n",
       "      <th>52</th>\n",
       "      <td>53</td>\n",
       "      <td>1</td>\n",
       "      <td>1</td>\n",
       "      <td>Harper, Mrs. Henry Sleeper (Myna Haxtun)</td>\n",
       "      <td>female</td>\n",
       "      <td>49.0</td>\n",
       "      <td>1</td>\n",
       "      <td>0</td>\n",
       "      <td>PC 17572</td>\n",
       "      <td>76.7292</td>\n",
       "      <td>C</td>\n",
       "    </tr>\n",
       "    <tr>\n",
       "      <th>62</th>\n",
       "      <td>63</td>\n",
       "      <td>0</td>\n",
       "      <td>1</td>\n",
       "      <td>Harris, Mr. Henry Birkhardt</td>\n",
       "      <td>male</td>\n",
       "      <td>45.0</td>\n",
       "      <td>1</td>\n",
       "      <td>0</td>\n",
       "      <td>36973</td>\n",
       "      <td>83.4750</td>\n",
       "      <td>S</td>\n",
       "    </tr>\n",
       "    <tr>\n",
       "      <th>...</th>\n",
       "      <td>...</td>\n",
       "      <td>...</td>\n",
       "      <td>...</td>\n",
       "      <td>...</td>\n",
       "      <td>...</td>\n",
       "      <td>...</td>\n",
       "      <td>...</td>\n",
       "      <td>...</td>\n",
       "      <td>...</td>\n",
       "      <td>...</td>\n",
       "      <td>...</td>\n",
       "    </tr>\n",
       "    <tr>\n",
       "      <th>802</th>\n",
       "      <td>803</td>\n",
       "      <td>1</td>\n",
       "      <td>1</td>\n",
       "      <td>Carter, Master. William Thornton II</td>\n",
       "      <td>male</td>\n",
       "      <td>11.0</td>\n",
       "      <td>1</td>\n",
       "      <td>2</td>\n",
       "      <td>113760</td>\n",
       "      <td>120.0000</td>\n",
       "      <td>S</td>\n",
       "    </tr>\n",
       "    <tr>\n",
       "      <th>820</th>\n",
       "      <td>821</td>\n",
       "      <td>1</td>\n",
       "      <td>1</td>\n",
       "      <td>Hays, Mrs. Charles Melville (Clara Jennings Gr...</td>\n",
       "      <td>female</td>\n",
       "      <td>52.0</td>\n",
       "      <td>1</td>\n",
       "      <td>1</td>\n",
       "      <td>12749</td>\n",
       "      <td>93.5000</td>\n",
       "      <td>S</td>\n",
       "    </tr>\n",
       "    <tr>\n",
       "      <th>835</th>\n",
       "      <td>836</td>\n",
       "      <td>1</td>\n",
       "      <td>1</td>\n",
       "      <td>Compton, Miss. Sara Rebecca</td>\n",
       "      <td>female</td>\n",
       "      <td>39.0</td>\n",
       "      <td>1</td>\n",
       "      <td>1</td>\n",
       "      <td>PC 17756</td>\n",
       "      <td>83.1583</td>\n",
       "      <td>C</td>\n",
       "    </tr>\n",
       "    <tr>\n",
       "      <th>856</th>\n",
       "      <td>857</td>\n",
       "      <td>1</td>\n",
       "      <td>1</td>\n",
       "      <td>Wick, Mrs. George Dennick (Mary Hitchcock)</td>\n",
       "      <td>female</td>\n",
       "      <td>45.0</td>\n",
       "      <td>1</td>\n",
       "      <td>1</td>\n",
       "      <td>36928</td>\n",
       "      <td>164.8667</td>\n",
       "      <td>S</td>\n",
       "    </tr>\n",
       "    <tr>\n",
       "      <th>879</th>\n",
       "      <td>880</td>\n",
       "      <td>1</td>\n",
       "      <td>1</td>\n",
       "      <td>Potter, Mrs. Thomas Jr (Lily Alexenia Wilson)</td>\n",
       "      <td>female</td>\n",
       "      <td>56.0</td>\n",
       "      <td>0</td>\n",
       "      <td>1</td>\n",
       "      <td>11767</td>\n",
       "      <td>83.1583</td>\n",
       "      <td>C</td>\n",
       "    </tr>\n",
       "  </tbody>\n",
       "</table>\n",
       "<p>95 rows × 11 columns</p>\n",
       "</div>"
      ],
      "text/plain": [
       "     PassengerId  Survived  Pclass  \\\n",
       "1              2         1       1   \n",
       "27            28         0       1   \n",
       "34            35         0       1   \n",
       "52            53         1       1   \n",
       "62            63         0       1   \n",
       "..           ...       ...     ...   \n",
       "802          803         1       1   \n",
       "820          821         1       1   \n",
       "835          836         1       1   \n",
       "856          857         1       1   \n",
       "879          880         1       1   \n",
       "\n",
       "                                                  Name     Sex   Age  SibSp  \\\n",
       "1    Cumings, Mrs. John Bradley (Florence Briggs Th...  female  38.0      1   \n",
       "27                      Fortune, Mr. Charles Alexander    male  19.0      3   \n",
       "34                             Meyer, Mr. Edgar Joseph    male  28.0      1   \n",
       "52            Harper, Mrs. Henry Sleeper (Myna Haxtun)  female  49.0      1   \n",
       "62                         Harris, Mr. Henry Birkhardt    male  45.0      1   \n",
       "..                                                 ...     ...   ...    ...   \n",
       "802                Carter, Master. William Thornton II    male  11.0      1   \n",
       "820  Hays, Mrs. Charles Melville (Clara Jennings Gr...  female  52.0      1   \n",
       "835                        Compton, Miss. Sara Rebecca  female  39.0      1   \n",
       "856         Wick, Mrs. George Dennick (Mary Hitchcock)  female  45.0      1   \n",
       "879      Potter, Mrs. Thomas Jr (Lily Alexenia Wilson)  female  56.0      0   \n",
       "\n",
       "     Parch    Ticket      Fare Embarked  \n",
       "1        0  PC 17599   71.2833        C  \n",
       "27       2     19950  263.0000        S  \n",
       "34       0  PC 17604   82.1708        C  \n",
       "52       0  PC 17572   76.7292        C  \n",
       "62       0     36973   83.4750        S  \n",
       "..     ...       ...       ...      ...  \n",
       "802      2    113760  120.0000        S  \n",
       "820      1     12749   93.5000        S  \n",
       "835      1  PC 17756   83.1583        C  \n",
       "856      1     36928  164.8667        S  \n",
       "879      1     11767   83.1583        C  \n",
       "\n",
       "[95 rows x 11 columns]"
      ]
     },
     "execution_count": 24,
     "metadata": {},
     "output_type": "execute_result"
    }
   ],
   "source": [
    "df[df[\"Fare\"]>70]"
   ]
  },
  {
   "cell_type": "code",
   "execution_count": 25,
   "id": "c8429fd6",
   "metadata": {
    "execution": {
     "iopub.execute_input": "2024-09-11T17:22:05.466849Z",
     "iopub.status.busy": "2024-09-11T17:22:05.465971Z",
     "iopub.status.idle": "2024-09-11T17:22:05.475173Z",
     "shell.execute_reply": "2024-09-11T17:22:05.474007Z"
    },
    "papermill": {
     "duration": 0.028114,
     "end_time": "2024-09-11T17:22:05.477365",
     "exception": false,
     "start_time": "2024-09-11T17:22:05.449251",
     "status": "completed"
    },
    "tags": []
   },
   "outputs": [
    {
     "data": {
      "text/plain": [
       "Embarked\n",
       "S    554\n",
       "C    130\n",
       "Q     28\n",
       "Name: count, dtype: int64"
      ]
     },
     "execution_count": 25,
     "metadata": {},
     "output_type": "execute_result"
    }
   ],
   "source": [
    "Embarked_counts=df['Embarked'].value_counts()\n",
    "Embarked_counts\n",
    "\n"
   ]
  },
  {
   "cell_type": "code",
   "execution_count": 26,
   "id": "cec42fe5",
   "metadata": {
    "execution": {
     "iopub.execute_input": "2024-09-11T17:22:05.509884Z",
     "iopub.status.busy": "2024-09-11T17:22:05.509319Z",
     "iopub.status.idle": "2024-09-11T17:22:05.711544Z",
     "shell.execute_reply": "2024-09-11T17:22:05.710544Z"
    },
    "papermill": {
     "duration": 0.22115,
     "end_time": "2024-09-11T17:22:05.713860",
     "exception": false,
     "start_time": "2024-09-11T17:22:05.492710",
     "status": "completed"
    },
    "tags": []
   },
   "outputs": [
    {
     "name": "stderr",
     "output_type": "stream",
     "text": [
      "/opt/conda/lib/python3.10/site-packages/seaborn/_oldcore.py:1765: FutureWarning: unique with argument that is not not a Series, Index, ExtensionArray, or np.ndarray is deprecated and will raise in a future version.\n",
      "  order = pd.unique(vector)\n"
     ]
    },
    {
     "data": {
      "text/plain": [
       "<Axes: ylabel='count'>"
      ]
     },
     "execution_count": 26,
     "metadata": {},
     "output_type": "execute_result"
    },
    {
     "data": {
      "image/png": "[encoded data removed]",
      "text/plain": [
       "<Figure size 640x480 with 1 Axes>"
      ]
     },
     "metadata": {},
     "output_type": "display_data"
    }
   ],
   "source": [
    "sns.barplot(x=['S','C','Q'],y=Embarked_counts,palette='viridis')\n",
    "\n"
   ]
  },
  {
   "cell_type": "code",
   "execution_count": 27,
   "id": "c9a2b0e9",
   "metadata": {
    "execution": {
     "iopub.execute_input": "2024-09-11T17:22:05.747574Z",
     "iopub.status.busy": "2024-09-11T17:22:05.747177Z",
     "iopub.status.idle": "2024-09-11T17:22:05.760828Z",
     "shell.execute_reply": "2024-09-11T17:22:05.759781Z"
    },
    "papermill": {
     "duration": 0.032983,
     "end_time": "2024-09-11T17:22:05.763024",
     "exception": false,
     "start_time": "2024-09-11T17:22:05.730041",
     "status": "completed"
    },
    "tags": []
   },
   "outputs": [
    {
     "data": {
      "text/plain": [
       "Sex     Survived\n",
       "female  1           195\n",
       "        0            64\n",
       "male    0           360\n",
       "        1            93\n",
       "Name: count, dtype: int64"
      ]
     },
     "execution_count": 27,
     "metadata": {},
     "output_type": "execute_result"
    }
   ],
   "source": [
    "df.groupby(['Sex'])['Survived'].value_counts()"
   ]
  },
  {
   "cell_type": "code",
   "execution_count": 28,
   "id": "255091b4",
   "metadata": {
    "execution": {
     "iopub.execute_input": "2024-09-11T17:22:05.796197Z",
     "iopub.status.busy": "2024-09-11T17:22:05.795804Z",
     "iopub.status.idle": "2024-09-11T17:22:05.808583Z",
     "shell.execute_reply": "2024-09-11T17:22:05.807542Z"
    },
    "papermill": {
     "duration": 0.03179,
     "end_time": "2024-09-11T17:22:05.810623",
     "exception": false,
     "start_time": "2024-09-11T17:22:05.778833",
     "status": "completed"
    },
    "tags": []
   },
   "outputs": [
    {
     "data": {
      "text/plain": [
       "Pclass  Survived\n",
       "1       1           120\n",
       "        0            64\n",
       "2       0            90\n",
       "        1            83\n",
       "3       0           270\n",
       "        1            85\n",
       "Name: count, dtype: int64"
      ]
     },
     "execution_count": 28,
     "metadata": {},
     "output_type": "execute_result"
    }
   ],
   "source": [
    "df.groupby(['Pclass'])['Survived'].value_counts()"
   ]
  },
  {
   "cell_type": "code",
   "execution_count": 29,
   "id": "1c3b2430",
   "metadata": {
    "execution": {
     "iopub.execute_input": "2024-09-11T17:22:05.844519Z",
     "iopub.status.busy": "2024-09-11T17:22:05.843680Z",
     "iopub.status.idle": "2024-09-11T17:22:05.855863Z",
     "shell.execute_reply": "2024-09-11T17:22:05.854693Z"
    },
    "papermill": {
     "duration": 0.032549,
     "end_time": "2024-09-11T17:22:05.858958",
     "exception": false,
     "start_time": "2024-09-11T17:22:05.826409",
     "status": "completed"
    },
    "tags": []
   },
   "outputs": [
    {
     "data": {
      "text/plain": [
       "Pclass  Sex     Survived\n",
       "1       female  1            80\n",
       "                0             3\n",
       "        male    0            61\n",
       "                1            40\n",
       "2       female  1            68\n",
       "                0             6\n",
       "        male    0            84\n",
       "                1            15\n",
       "3       female  0            55\n",
       "                1            47\n",
       "        male    0           215\n",
       "                1            38\n",
       "Name: count, dtype: int64"
      ]
     },
     "execution_count": 29,
     "metadata": {},
     "output_type": "execute_result"
    }
   ],
   "source": [
    "df.groupby(['Pclass','Sex'])['Survived'].value_counts()\n"
   ]
  },
  {
   "cell_type": "code",
   "execution_count": 30,
   "id": "47f23f3d",
   "metadata": {
    "execution": {
     "iopub.execute_input": "2024-09-11T17:22:05.893614Z",
     "iopub.status.busy": "2024-09-11T17:22:05.893206Z",
     "iopub.status.idle": "2024-09-11T17:22:05.901452Z",
     "shell.execute_reply": "2024-09-11T17:22:05.900441Z"
    },
    "papermill": {
     "duration": 0.027402,
     "end_time": "2024-09-11T17:22:05.903606",
     "exception": false,
     "start_time": "2024-09-11T17:22:05.876204",
     "status": "completed"
    },
    "tags": []
   },
   "outputs": [],
   "source": [
    "bins = [0, 18, 35, 50, 65, float('inf')]\n",
    "labels = ['0-18', '19-35', '36-50', '51-65', '66+']\n",
    "df['AgeGroup'] = pd.cut(df['Age'], bins=bins, labels=labels, right=False)"
   ]
  },
  {
   "cell_type": "code",
   "execution_count": 31,
   "id": "c5162700",
   "metadata": {
    "execution": {
     "iopub.execute_input": "2024-09-11T17:22:05.937804Z",
     "iopub.status.busy": "2024-09-11T17:22:05.937367Z",
     "iopub.status.idle": "2024-09-11T17:22:05.956657Z",
     "shell.execute_reply": "2024-09-11T17:22:05.955615Z"
    },
    "papermill": {
     "duration": 0.039017,
     "end_time": "2024-09-11T17:22:05.958889",
     "exception": false,
     "start_time": "2024-09-11T17:22:05.919872",
     "status": "completed"
    },
    "tags": []
   },
   "outputs": [
    {
     "name": "stderr",
     "output_type": "stream",
     "text": [
      "/tmp/ipykernel_17/2852615816.py:1: FutureWarning: The default of observed=False is deprecated and will be changed to True in a future version of pandas. Pass observed=False to retain current behavior or observed=True to adopt the future default and silence this warning.\n",
      "  df[df['Survived']==0].groupby(['AgeGroup'])['Survived'].value_counts()\n"
     ]
    },
    {
     "data": {
      "text/plain": [
       "AgeGroup  Survived\n",
       "0-18      0            52\n",
       "19-35     0           231\n",
       "36-50     0            94\n",
       "51-65     0            37\n",
       "66+       0            10\n",
       "Name: count, dtype: int64"
      ]
     },
     "execution_count": 31,
     "metadata": {},
     "output_type": "execute_result"
    }
   ],
   "source": [
    "df[df['Survived']==0].groupby(['AgeGroup'])['Survived'].value_counts()"
   ]
  },
  {
   "cell_type": "code",
   "execution_count": 32,
   "id": "ea87530c",
   "metadata": {
    "execution": {
     "iopub.execute_input": "2024-09-11T17:22:05.993701Z",
     "iopub.status.busy": "2024-09-11T17:22:05.992733Z",
     "iopub.status.idle": "2024-09-11T17:22:06.011660Z",
     "shell.execute_reply": "2024-09-11T17:22:06.010388Z"
    },
    "papermill": {
     "duration": 0.039495,
     "end_time": "2024-09-11T17:22:06.014671",
     "exception": false,
     "start_time": "2024-09-11T17:22:05.975176",
     "status": "completed"
    },
    "tags": []
   },
   "outputs": [
    {
     "name": "stderr",
     "output_type": "stream",
     "text": [
      "/tmp/ipykernel_17/4238015194.py:1: FutureWarning: The default of observed=False is deprecated and will be changed to True in a future version of pandas. Pass observed=False to retain current behavior or observed=True to adopt the future default and silence this warning.\n",
      "  df.groupby(['AgeGroup','Sex'])['Survived'].value_counts()\n"
     ]
    },
    {
     "data": {
      "text/plain": [
       "AgeGroup  Sex     Survived\n",
       "0-18      female  1            38\n",
       "                  0            17\n",
       "          male    0            35\n",
       "                  1            23\n",
       "19-35     female  1            94\n",
       "                  0            31\n",
       "          male    0           200\n",
       "                  1            41\n",
       "36-50     female  1            44\n",
       "                  0            14\n",
       "          male    0            80\n",
       "                  1            22\n",
       "51-65     female  1            19\n",
       "                  0             2\n",
       "          male    0            35\n",
       "                  1             6\n",
       "66+       female  0             0\n",
       "                  1             0\n",
       "          male    0            10\n",
       "                  1             1\n",
       "Name: count, dtype: int64"
      ]
     },
     "execution_count": 32,
     "metadata": {},
     "output_type": "execute_result"
    }
   ],
   "source": [
    "df.groupby(['AgeGroup','Sex'])['Survived'].value_counts()"
   ]
  },
  {
   "cell_type": "code",
   "execution_count": 33,
   "id": "868a1a58",
   "metadata": {
    "execution": {
     "iopub.execute_input": "2024-09-11T17:22:06.049422Z",
     "iopub.status.busy": "2024-09-11T17:22:06.049002Z",
     "iopub.status.idle": "2024-09-11T17:22:06.061513Z",
     "shell.execute_reply": "2024-09-11T17:22:06.060359Z"
    },
    "papermill": {
     "duration": 0.033249,
     "end_time": "2024-09-11T17:22:06.064367",
     "exception": false,
     "start_time": "2024-09-11T17:22:06.031118",
     "status": "completed"
    },
    "tags": []
   },
   "outputs": [
    {
     "name": "stdout",
     "output_type": "stream",
     "text": [
      "<class 'pandas.core.frame.DataFrame'>\n",
      "Index: 712 entries, 0 to 890\n",
      "Data columns (total 12 columns):\n",
      " #   Column       Non-Null Count  Dtype   \n",
      "---  ------       --------------  -----   \n",
      " 0   PassengerId  712 non-null    int64   \n",
      " 1   Survived     712 non-null    int64   \n",
      " 2   Pclass       712 non-null    int64   \n",
      " 3   Name         712 non-null    object  \n",
      " 4   Sex          712 non-null    object  \n",
      " 5   Age          712 non-null    float64 \n",
      " 6   SibSp        712 non-null    int64   \n",
      " 7   Parch        712 non-null    int64   \n",
      " 8   Ticket       712 non-null    object  \n",
      " 9   Fare         712 non-null    float64 \n",
      " 10  Embarked     712 non-null    object  \n",
      " 11  AgeGroup     712 non-null    category\n",
      "dtypes: category(1), float64(2), int64(5), object(4)\n",
      "memory usage: 67.7+ KB\n"
     ]
    }
   ],
   "source": [
    "df.info()\n"
   ]
  },
  {
   "cell_type": "code",
   "execution_count": 34,
   "id": "ba1e0597",
   "metadata": {
    "execution": {
     "iopub.execute_input": "2024-09-11T17:22:06.099393Z",
     "iopub.status.busy": "2024-09-11T17:22:06.098984Z",
     "iopub.status.idle": "2024-09-11T17:22:06.114799Z",
     "shell.execute_reply": "2024-09-11T17:22:06.113672Z"
    },
    "papermill": {
     "duration": 0.035979,
     "end_time": "2024-09-11T17:22:06.117024",
     "exception": false,
     "start_time": "2024-09-11T17:22:06.081045",
     "status": "completed"
    },
    "tags": []
   },
   "outputs": [
    {
     "data": {
      "text/html": [
       "<div>\n",
       "<style scoped>\n",
       "    .dataframe tbody tr th:only-of-type {\n",
       "        vertical-align: middle;\n",
       "    }\n",
       "\n",
       "    .dataframe tbody tr th {\n",
       "        vertical-align: top;\n",
       "    }\n",
       "\n",
       "    .dataframe thead th {\n",
       "        text-align: right;\n",
       "    }\n",
       "</style>\n",
       "<table border=\"1\" class=\"dataframe\">\n",
       "  <thead>\n",
       "    <tr style=\"text-align: right;\">\n",
       "      <th></th>\n",
       "      <th>PassengerId</th>\n",
       "      <th>Survived</th>\n",
       "      <th>Pclass</th>\n",
       "      <th>Age</th>\n",
       "      <th>SibSp</th>\n",
       "      <th>Parch</th>\n",
       "      <th>Fare</th>\n",
       "    </tr>\n",
       "  </thead>\n",
       "  <tbody>\n",
       "    <tr>\n",
       "      <th>PassengerId</th>\n",
       "      <td>1.000000</td>\n",
       "      <td>0.029526</td>\n",
       "      <td>-0.035609</td>\n",
       "      <td>0.033681</td>\n",
       "      <td>-0.082704</td>\n",
       "      <td>-0.011672</td>\n",
       "      <td>0.009655</td>\n",
       "    </tr>\n",
       "    <tr>\n",
       "      <th>Survived</th>\n",
       "      <td>0.029526</td>\n",
       "      <td>1.000000</td>\n",
       "      <td>-0.356462</td>\n",
       "      <td>-0.082446</td>\n",
       "      <td>-0.015523</td>\n",
       "      <td>0.095265</td>\n",
       "      <td>0.266100</td>\n",
       "    </tr>\n",
       "    <tr>\n",
       "      <th>Pclass</th>\n",
       "      <td>-0.035609</td>\n",
       "      <td>-0.356462</td>\n",
       "      <td>1.000000</td>\n",
       "      <td>-0.365902</td>\n",
       "      <td>0.065187</td>\n",
       "      <td>0.023666</td>\n",
       "      <td>-0.552893</td>\n",
       "    </tr>\n",
       "    <tr>\n",
       "      <th>Age</th>\n",
       "      <td>0.033681</td>\n",
       "      <td>-0.082446</td>\n",
       "      <td>-0.365902</td>\n",
       "      <td>1.000000</td>\n",
       "      <td>-0.307351</td>\n",
       "      <td>-0.187896</td>\n",
       "      <td>0.093143</td>\n",
       "    </tr>\n",
       "    <tr>\n",
       "      <th>SibSp</th>\n",
       "      <td>-0.082704</td>\n",
       "      <td>-0.015523</td>\n",
       "      <td>0.065187</td>\n",
       "      <td>-0.307351</td>\n",
       "      <td>1.000000</td>\n",
       "      <td>0.383338</td>\n",
       "      <td>0.139860</td>\n",
       "    </tr>\n",
       "    <tr>\n",
       "      <th>Parch</th>\n",
       "      <td>-0.011672</td>\n",
       "      <td>0.095265</td>\n",
       "      <td>0.023666</td>\n",
       "      <td>-0.187896</td>\n",
       "      <td>0.383338</td>\n",
       "      <td>1.000000</td>\n",
       "      <td>0.206624</td>\n",
       "    </tr>\n",
       "    <tr>\n",
       "      <th>Fare</th>\n",
       "      <td>0.009655</td>\n",
       "      <td>0.266100</td>\n",
       "      <td>-0.552893</td>\n",
       "      <td>0.093143</td>\n",
       "      <td>0.139860</td>\n",
       "      <td>0.206624</td>\n",
       "      <td>1.000000</td>\n",
       "    </tr>\n",
       "  </tbody>\n",
       "</table>\n",
       "</div>"
      ],
      "text/plain": [
       "             PassengerId  Survived    Pclass       Age     SibSp     Parch  \\\n",
       "PassengerId     1.000000  0.029526 -0.035609  0.033681 -0.082704 -0.011672   \n",
       "Survived        0.029526  1.000000 -0.356462 -0.082446 -0.015523  0.095265   \n",
       "Pclass         -0.035609 -0.356462  1.000000 -0.365902  0.065187  0.023666   \n",
       "Age             0.033681 -0.082446 -0.365902  1.000000 -0.307351 -0.187896   \n",
       "SibSp          -0.082704 -0.015523  0.065187 -0.307351  1.000000  0.383338   \n",
       "Parch          -0.011672  0.095265  0.023666 -0.187896  0.383338  1.000000   \n",
       "Fare            0.009655  0.266100 -0.552893  0.093143  0.139860  0.206624   \n",
       "\n",
       "                 Fare  \n",
       "PassengerId  0.009655  \n",
       "Survived     0.266100  \n",
       "Pclass      -0.552893  \n",
       "Age          0.093143  \n",
       "SibSp        0.139860  \n",
       "Parch        0.206624  \n",
       "Fare         1.000000  "
      ]
     },
     "execution_count": 34,
     "metadata": {},
     "output_type": "execute_result"
    }
   ],
   "source": [
    "df.corr(numeric_only=True)"
   ]
  },
  {
   "cell_type": "code",
   "execution_count": 35,
   "id": "21a202cc",
   "metadata": {
    "execution": {
     "iopub.execute_input": "2024-09-11T17:22:06.207362Z",
     "iopub.status.busy": "2024-09-11T17:22:06.206923Z",
     "iopub.status.idle": "2024-09-11T17:22:06.213219Z",
     "shell.execute_reply": "2024-09-11T17:22:06.212176Z"
    },
    "papermill": {
     "duration": 0.081535,
     "end_time": "2024-09-11T17:22:06.215444",
     "exception": false,
     "start_time": "2024-09-11T17:22:06.133909",
     "status": "completed"
    },
    "tags": []
   },
   "outputs": [],
   "source": [
    "df.drop(['PassengerId','Ticket','Name','AgeGroup'],axis=1,inplace=True)"
   ]
  },
  {
   "cell_type": "code",
   "execution_count": 36,
   "id": "ab14a5d2",
   "metadata": {
    "execution": {
     "iopub.execute_input": "2024-09-11T17:22:06.251684Z",
     "iopub.status.busy": "2024-09-11T17:22:06.251221Z",
     "iopub.status.idle": "2024-09-11T17:22:06.265671Z",
     "shell.execute_reply": "2024-09-11T17:22:06.264423Z"
    },
    "papermill": {
     "duration": 0.035488,
     "end_time": "2024-09-11T17:22:06.267885",
     "exception": false,
     "start_time": "2024-09-11T17:22:06.232397",
     "status": "completed"
    },
    "tags": []
   },
   "outputs": [
    {
     "data": {
      "text/html": [
       "<div>\n",
       "<style scoped>\n",
       "    .dataframe tbody tr th:only-of-type {\n",
       "        vertical-align: middle;\n",
       "    }\n",
       "\n",
       "    .dataframe tbody tr th {\n",
       "        vertical-align: top;\n",
       "    }\n",
       "\n",
       "    .dataframe thead th {\n",
       "        text-align: right;\n",
       "    }\n",
       "</style>\n",
       "<table border=\"1\" class=\"dataframe\">\n",
       "  <thead>\n",
       "    <tr style=\"text-align: right;\">\n",
       "      <th></th>\n",
       "      <th>Survived</th>\n",
       "      <th>Pclass</th>\n",
       "      <th>Sex</th>\n",
       "      <th>Age</th>\n",
       "      <th>SibSp</th>\n",
       "      <th>Parch</th>\n",
       "      <th>Fare</th>\n",
       "      <th>Embarked</th>\n",
       "    </tr>\n",
       "  </thead>\n",
       "  <tbody>\n",
       "    <tr>\n",
       "      <th>0</th>\n",
       "      <td>0</td>\n",
       "      <td>3</td>\n",
       "      <td>male</td>\n",
       "      <td>22.0</td>\n",
       "      <td>1</td>\n",
       "      <td>0</td>\n",
       "      <td>7.2500</td>\n",
       "      <td>S</td>\n",
       "    </tr>\n",
       "    <tr>\n",
       "      <th>1</th>\n",
       "      <td>1</td>\n",
       "      <td>1</td>\n",
       "      <td>female</td>\n",
       "      <td>38.0</td>\n",
       "      <td>1</td>\n",
       "      <td>0</td>\n",
       "      <td>71.2833</td>\n",
       "      <td>C</td>\n",
       "    </tr>\n",
       "    <tr>\n",
       "      <th>2</th>\n",
       "      <td>1</td>\n",
       "      <td>3</td>\n",
       "      <td>female</td>\n",
       "      <td>26.0</td>\n",
       "      <td>0</td>\n",
       "      <td>0</td>\n",
       "      <td>7.9250</td>\n",
       "      <td>S</td>\n",
       "    </tr>\n",
       "    <tr>\n",
       "      <th>3</th>\n",
       "      <td>1</td>\n",
       "      <td>1</td>\n",
       "      <td>female</td>\n",
       "      <td>35.0</td>\n",
       "      <td>1</td>\n",
       "      <td>0</td>\n",
       "      <td>53.1000</td>\n",
       "      <td>S</td>\n",
       "    </tr>\n",
       "    <tr>\n",
       "      <th>4</th>\n",
       "      <td>0</td>\n",
       "      <td>3</td>\n",
       "      <td>male</td>\n",
       "      <td>35.0</td>\n",
       "      <td>0</td>\n",
       "      <td>0</td>\n",
       "      <td>8.0500</td>\n",
       "      <td>S</td>\n",
       "    </tr>\n",
       "  </tbody>\n",
       "</table>\n",
       "</div>"
      ],
      "text/plain": [
       "   Survived  Pclass     Sex   Age  SibSp  Parch     Fare Embarked\n",
       "0         0       3    male  22.0      1      0   7.2500        S\n",
       "1         1       1  female  38.0      1      0  71.2833        C\n",
       "2         1       3  female  26.0      0      0   7.9250        S\n",
       "3         1       1  female  35.0      1      0  53.1000        S\n",
       "4         0       3    male  35.0      0      0   8.0500        S"
      ]
     },
     "execution_count": 36,
     "metadata": {},
     "output_type": "execute_result"
    }
   ],
   "source": [
    "df.head()\n"
   ]
  },
  {
   "cell_type": "code",
   "execution_count": 37,
   "id": "9f040cc4",
   "metadata": {
    "execution": {
     "iopub.execute_input": "2024-09-11T17:22:06.303296Z",
     "iopub.status.busy": "2024-09-11T17:22:06.302892Z",
     "iopub.status.idle": "2024-09-11T17:22:06.311183Z",
     "shell.execute_reply": "2024-09-11T17:22:06.310062Z"
    },
    "papermill": {
     "duration": 0.028585,
     "end_time": "2024-09-11T17:22:06.313353",
     "exception": false,
     "start_time": "2024-09-11T17:22:06.284768",
     "status": "completed"
    },
    "tags": []
   },
   "outputs": [],
   "source": [
    "encoder= LabelEncoder()\n",
    "df['Sex']=encoder.fit_transform(df['Sex'])\n",
    "df['Embarked']=encoder.fit_transform(df['Embarked'])\n",
    "df['Survived']=encoder.fit_transform(df['Survived'])"
   ]
  },
  {
   "cell_type": "code",
   "execution_count": 38,
   "id": "4801815e",
   "metadata": {
    "execution": {
     "iopub.execute_input": "2024-09-11T17:22:06.349277Z",
     "iopub.status.busy": "2024-09-11T17:22:06.348833Z",
     "iopub.status.idle": "2024-09-11T17:22:06.359188Z",
     "shell.execute_reply": "2024-09-11T17:22:06.357955Z"
    },
    "papermill": {
     "duration": 0.031036,
     "end_time": "2024-09-11T17:22:06.361406",
     "exception": false,
     "start_time": "2024-09-11T17:22:06.330370",
     "status": "completed"
    },
    "tags": []
   },
   "outputs": [
    {
     "data": {
      "text/plain": [
       "0      0\n",
       "1      1\n",
       "2      1\n",
       "3      1\n",
       "4      0\n",
       "      ..\n",
       "885    0\n",
       "886    0\n",
       "887    1\n",
       "889    1\n",
       "890    0\n",
       "Name: Survived, Length: 712, dtype: int64"
      ]
     },
     "execution_count": 38,
     "metadata": {},
     "output_type": "execute_result"
    }
   ],
   "source": [
    "X=df.drop(columns=[\"Survived\"])\n",
    "y=df.Survived\n",
    "\n",
    "X\n",
    "y\n"
   ]
  },
  {
   "cell_type": "code",
   "execution_count": 39,
   "id": "77febb1a",
   "metadata": {
    "execution": {
     "iopub.execute_input": "2024-09-11T17:22:06.397815Z",
     "iopub.status.busy": "2024-09-11T17:22:06.397348Z",
     "iopub.status.idle": "2024-09-11T17:22:06.406350Z",
     "shell.execute_reply": "2024-09-11T17:22:06.405338Z"
    },
    "papermill": {
     "duration": 0.030432,
     "end_time": "2024-09-11T17:22:06.409008",
     "exception": false,
     "start_time": "2024-09-11T17:22:06.378576",
     "status": "completed"
    },
    "tags": []
   },
   "outputs": [],
   "source": [
    "X_train,X_test,y_train,y_test=train_test_split(X,y,test_size=0.2,shuffle=True,random_state=7)"
   ]
  },
  {
   "cell_type": "code",
   "execution_count": 40,
   "id": "0699ecc1",
   "metadata": {
    "execution": {
     "iopub.execute_input": "2024-09-11T17:22:06.445626Z",
     "iopub.status.busy": "2024-09-11T17:22:06.445197Z",
     "iopub.status.idle": "2024-09-11T17:22:06.482187Z",
     "shell.execute_reply": "2024-09-11T17:22:06.481100Z"
    },
    "papermill": {
     "duration": 0.0583,
     "end_time": "2024-09-11T17:22:06.484696",
     "exception": false,
     "start_time": "2024-09-11T17:22:06.426396",
     "status": "completed"
    },
    "tags": []
   },
   "outputs": [
    {
     "data": {
      "text/html": [
       "<style>#sk-container-id-1 {color: black;background-color: white;}#sk-container-id-1 pre{padding: 0;}#sk-container-id-1 div.sk-toggleable {background-color: white;}#sk-container-id-1 label.sk-toggleable__label {cursor: pointer;display: block;width: 100%;margin-bottom: 0;padding: 0.3em;box-sizing: border-box;text-align: center;}#sk-container-id-1 label.sk-toggleable__label-arrow:before {content: \"▸\";float: left;margin-right: 0.25em;color: #696969;}#sk-container-id-1 label.sk-toggleable__label-arrow:hover:before {color: black;}#sk-container-id-1 div.sk-estimator:hover label.sk-toggleable__label-arrow:before {color: black;}#sk-container-id-1 div.sk-toggleable__content {max-height: 0;max-width: 0;overflow: hidden;text-align: left;background-color: #f0f8ff;}#sk-container-id-1 div.sk-toggleable__content pre {margin: 0.2em;color: black;border-radius: 0.25em;background-color: #f0f8ff;}#sk-container-id-1 input.sk-toggleable__control:checked~div.sk-toggleable__content {max-height: 200px;max-width: 100%;overflow: auto;}#sk-container-id-1 input.sk-toggleable__control:checked~label.sk-toggleable__label-arrow:before {content: \"▾\";}#sk-container-id-1 div.sk-estimator input.sk-toggleable__control:checked~label.sk-toggleable__label {background-color: #d4ebff;}#sk-container-id-1 div.sk-label input.sk-toggleable__control:checked~label.sk-toggleable__label {background-color: #d4ebff;}#sk-container-id-1 input.sk-hidden--visually {border: 0;clip: rect(1px 1px 1px 1px);clip: rect(1px, 1px, 1px, 1px);height: 1px;margin: -1px;overflow: hidden;padding: 0;position: absolute;width: 1px;}#sk-container-id-1 div.sk-estimator {font-family: monospace;background-color: #f0f8ff;border: 1px dotted black;border-radius: 0.25em;box-sizing: border-box;margin-bottom: 0.5em;}#sk-container-id-1 div.sk-estimator:hover {background-color: #d4ebff;}#sk-container-id-1 div.sk-parallel-item::after {content: \"\";width: 100%;border-bottom: 1px solid gray;flex-grow: 1;}#sk-container-id-1 div.sk-label:hover label.sk-toggleable__label {background-color: #d4ebff;}#sk-container-id-1 div.sk-serial::before {content: \"\";position: absolute;border-left: 1px solid gray;box-sizing: border-box;top: 0;bottom: 0;left: 50%;z-index: 0;}#sk-container-id-1 div.sk-serial {display: flex;flex-direction: column;align-items: center;background-color: white;padding-right: 0.2em;padding-left: 0.2em;position: relative;}#sk-container-id-1 div.sk-item {position: relative;z-index: 1;}#sk-container-id-1 div.sk-parallel {display: flex;align-items: stretch;justify-content: center;background-color: white;position: relative;}#sk-container-id-1 div.sk-item::before, #sk-container-id-1 div.sk-parallel-item::before {content: \"\";position: absolute;border-left: 1px solid gray;box-sizing: border-box;top: 0;bottom: 0;left: 50%;z-index: -1;}#sk-container-id-1 div.sk-parallel-item {display: flex;flex-direction: column;z-index: 1;position: relative;background-color: white;}#sk-container-id-1 div.sk-parallel-item:first-child::after {align-self: flex-end;width: 50%;}#sk-container-id-1 div.sk-parallel-item:last-child::after {align-self: flex-start;width: 50%;}#sk-container-id-1 div.sk-parallel-item:only-child::after {width: 0;}#sk-container-id-1 div.sk-dashed-wrapped {border: 1px dashed gray;margin: 0 0.4em 0.5em 0.4em;box-sizing: border-box;padding-bottom: 0.4em;background-color: white;}#sk-container-id-1 div.sk-label label {font-family: monospace;font-weight: bold;display: inline-block;line-height: 1.2em;}#sk-container-id-1 div.sk-label-container {text-align: center;}#sk-container-id-1 div.sk-container {/* jupyter's `normalize.less` sets `[hidden] { display: none; }` but bootstrap.min.css set `[hidden] { display: none !important; }` so we also need the `!important` here to be able to override the default hidden behavior on the sphinx rendered scikit-learn.org. See: https://github.com/scikit-learn/scikit-learn/issues/21755 */display: inline-block !important;position: relative;}#sk-container-id-1 div.sk-text-repr-fallback {display: none;}</style><div id=\"sk-container-id-1\" class=\"sk-top-container\"><div class=\"sk-text-repr-fallback\"><pre>LogisticRegression(max_iter=12000)</pre><b>In a Jupyter environment, please rerun this cell to show the HTML representation or trust the notebook. <br />On GitHub, the HTML representation is unable to render, please try loading this page with nbviewer.org.</b></div><div class=\"sk-container\" hidden><div class=\"sk-item\"><div class=\"sk-estimator sk-toggleable\"><input class=\"sk-toggleable__control sk-hidden--visually\" id=\"sk-estimator-id-1\" type=\"checkbox\" checked><label for=\"sk-estimator-id-1\" class=\"sk-toggleable__label sk-toggleable__label-arrow\">LogisticRegression</label><div class=\"sk-toggleable__content\"><pre>LogisticRegression(max_iter=12000)</pre></div></div></div></div></div>"
      ],
      "text/plain": [
       "LogisticRegression(max_iter=12000)"
      ]
     },
     "execution_count": 40,
     "metadata": {},
     "output_type": "execute_result"
    }
   ],
   "source": [
    "model=LogisticRegression(max_iter=12000)\n",
    "model.fit(X_train,y_train)"
   ]
  },
  {
   "cell_type": "code",
   "execution_count": 41,
   "id": "44fb238d",
   "metadata": {
    "execution": {
     "iopub.execute_input": "2024-09-11T17:22:06.521964Z",
     "iopub.status.busy": "2024-09-11T17:22:06.521381Z",
     "iopub.status.idle": "2024-09-11T17:22:06.528648Z",
     "shell.execute_reply": "2024-09-11T17:22:06.527472Z"
    },
    "papermill": {
     "duration": 0.028185,
     "end_time": "2024-09-11T17:22:06.530890",
     "exception": false,
     "start_time": "2024-09-11T17:22:06.502705",
     "status": "completed"
    },
    "tags": []
   },
   "outputs": [],
   "source": [
    "y_pred=model.predict(X_test)"
   ]
  },
  {
   "cell_type": "code",
   "execution_count": 42,
   "id": "7b6f11c1",
   "metadata": {
    "execution": {
     "iopub.execute_input": "2024-09-11T17:22:06.567599Z",
     "iopub.status.busy": "2024-09-11T17:22:06.566818Z",
     "iopub.status.idle": "2024-09-11T17:22:06.577159Z",
     "shell.execute_reply": "2024-09-11T17:22:06.576124Z"
    },
    "papermill": {
     "duration": 0.031186,
     "end_time": "2024-09-11T17:22:06.579411",
     "exception": false,
     "start_time": "2024-09-11T17:22:06.548225",
     "status": "completed"
    },
    "tags": []
   },
   "outputs": [
    {
     "data": {
      "text/plain": [
       "81.01933216168717"
      ]
     },
     "execution_count": 42,
     "metadata": {},
     "output_type": "execute_result"
    }
   ],
   "source": [
    "model.score(X_train,y_train)*100"
   ]
  },
  {
   "cell_type": "code",
   "execution_count": 43,
   "id": "1aefe5f2",
   "metadata": {
    "execution": {
     "iopub.execute_input": "2024-09-11T17:22:06.617133Z",
     "iopub.status.busy": "2024-09-11T17:22:06.616179Z",
     "iopub.status.idle": "2024-09-11T17:22:06.625887Z",
     "shell.execute_reply": "2024-09-11T17:22:06.624847Z"
    },
    "papermill": {
     "duration": 0.030982,
     "end_time": "2024-09-11T17:22:06.628249",
     "exception": false,
     "start_time": "2024-09-11T17:22:06.597267",
     "status": "completed"
    },
    "tags": []
   },
   "outputs": [
    {
     "data": {
      "text/plain": [
       "79.72027972027972"
      ]
     },
     "execution_count": 43,
     "metadata": {},
     "output_type": "execute_result"
    }
   ],
   "source": [
    "model.score(X_test,y_test)*100"
   ]
  },
  {
   "cell_type": "code",
   "execution_count": 44,
   "id": "37aabf6d",
   "metadata": {
    "execution": {
     "iopub.execute_input": "2024-09-11T17:22:06.666097Z",
     "iopub.status.busy": "2024-09-11T17:22:06.665678Z",
     "iopub.status.idle": "2024-09-11T17:22:06.672921Z",
     "shell.execute_reply": "2024-09-11T17:22:06.671830Z"
    },
    "papermill": {
     "duration": 0.028882,
     "end_time": "2024-09-11T17:22:06.675402",
     "exception": false,
     "start_time": "2024-09-11T17:22:06.646520",
     "status": "completed"
    },
    "tags": []
   },
   "outputs": [
    {
     "name": "stdout",
     "output_type": "stream",
     "text": [
      "79%\n"
     ]
    }
   ],
   "source": [
    "rate=accuracy_score(y_test,y_pred)*100\n",
    "print(f'{int(rate)}%')"
   ]
  },
  {
   "cell_type": "code",
   "execution_count": 45,
   "id": "7bd1dff2",
   "metadata": {
    "execution": {
     "iopub.execute_input": "2024-09-11T17:22:06.712608Z",
     "iopub.status.busy": "2024-09-11T17:22:06.712197Z",
     "iopub.status.idle": "2024-09-11T17:22:06.728077Z",
     "shell.execute_reply": "2024-09-11T17:22:06.726882Z"
    },
    "papermill": {
     "duration": 0.037492,
     "end_time": "2024-09-11T17:22:06.730619",
     "exception": false,
     "start_time": "2024-09-11T17:22:06.693127",
     "status": "completed"
    },
    "tags": []
   },
   "outputs": [
    {
     "name": "stdout",
     "output_type": "stream",
     "text": [
      "              precision    recall  f1-score   support\n",
      "\n",
      "           0       0.80      0.90      0.84        88\n",
      "           1       0.80      0.64      0.71        55\n",
      "\n",
      "    accuracy                           0.80       143\n",
      "   macro avg       0.80      0.77      0.78       143\n",
      "weighted avg       0.80      0.80      0.79       143\n",
      "\n",
      "[[79  9]\n",
      " [20 35]]\n"
     ]
    }
   ],
   "source": [
    "print(classification_report(y_test,y_pred))\n",
    "print(confusion_matrix(y_test,y_pred))"
   ]
  },
  {
   "cell_type": "code",
   "execution_count": 46,
   "id": "849f4198",
   "metadata": {
    "execution": {
     "iopub.execute_input": "2024-09-11T17:22:06.768371Z",
     "iopub.status.busy": "2024-09-11T17:22:06.767519Z",
     "iopub.status.idle": "2024-09-11T17:22:06.790412Z",
     "shell.execute_reply": "2024-09-11T17:22:06.789352Z"
    },
    "papermill": {
     "duration": 0.044434,
     "end_time": "2024-09-11T17:22:06.792953",
     "exception": false,
     "start_time": "2024-09-11T17:22:06.748519",
     "status": "completed"
    },
    "tags": []
   },
   "outputs": [],
   "source": [
    "modelsv=SVC()\n",
    "modelsv.fit(X_train,y_train)\n",
    "y_pred=modelsv.predict(X_test)"
   ]
  },
  {
   "cell_type": "code",
   "execution_count": 47,
   "id": "83145529",
   "metadata": {
    "execution": {
     "iopub.execute_input": "2024-09-11T17:22:06.830165Z",
     "iopub.status.busy": "2024-09-11T17:22:06.829779Z",
     "iopub.status.idle": "2024-09-11T17:22:06.849102Z",
     "shell.execute_reply": "2024-09-11T17:22:06.847984Z"
    },
    "papermill": {
     "duration": 0.040648,
     "end_time": "2024-09-11T17:22:06.851472",
     "exception": false,
     "start_time": "2024-09-11T17:22:06.810824",
     "status": "completed"
    },
    "tags": []
   },
   "outputs": [
    {
     "name": "stdout",
     "output_type": "stream",
     "text": [
      "98.76977152899823\n",
      "75.52447552447552\n",
      "75.52447552447552\n"
     ]
    }
   ],
   "source": [
    "#decisiontreeclassifier\n",
    "classifier=DecisionTreeClassifier()\n",
    "classifier.fit(X_train,y_train)\n",
    "y_pred=classifier.predict(X_test)\n",
    "print(classifier.score(X_train,y_train)*100)\n",
    "print(classifier.score(X_test,y_test)*100)\n",
    "print(accuracy_score(y_test,y_pred)*100)"
   ]
  },
  {
   "cell_type": "code",
   "execution_count": 48,
   "id": "36aacf55",
   "metadata": {
    "execution": {
     "iopub.execute_input": "2024-09-11T17:22:06.890383Z",
     "iopub.status.busy": "2024-09-11T17:22:06.889418Z",
     "iopub.status.idle": "2024-09-11T17:22:06.998138Z",
     "shell.execute_reply": "2024-09-11T17:22:06.996784Z"
    },
    "papermill": {
     "duration": 0.130353,
     "end_time": "2024-09-11T17:22:07.000378",
     "exception": false,
     "start_time": "2024-09-11T17:22:06.870025",
     "status": "completed"
    },
    "tags": []
   },
   "outputs": [
    {
     "name": "stdout",
     "output_type": "stream",
     "text": [
      "71%\n",
      "              precision    recall  f1-score   support\n",
      "\n",
      "           0       0.74      0.82      0.78        88\n",
      "           1       0.65      0.55      0.59        55\n",
      "\n",
      "    accuracy                           0.71       143\n",
      "   macro avg       0.70      0.68      0.69       143\n",
      "weighted avg       0.71      0.71      0.71       143\n",
      "\n",
      "[[72 16]\n",
      " [25 30]]\n"
     ]
    }
   ],
   "source": [
    "#knn classifier\n",
    "ModelK=KNeighborsClassifier(n_neighbors=12)\n",
    "ModelK.fit(X_train,y_train)\n",
    "ModelK.score(X_train,y_train)*100\n",
    "y_pred=ModelK.predict(X_test)\n",
    "ModelK.score(X_train,y_train)*100\n",
    "ModelK.score(X_test,y_test)*100\n",
    "rate=accuracy_score(y_test,y_pred)*100\n",
    "print(f'{int(rate)}%')\n",
    "print(classification_report(y_test,y_pred))\n",
    "print(confusion_matrix(y_test,y_pred))"
   ]
  }
 ],
 "metadata": {
  "kaggle": {
   "accelerator": "none",
   "dataSources": [
    {
     "datasetId": 1818188,
     "sourceId": 2965537,
     "sourceType": "datasetVersion"
    }
   ],
   "dockerImageVersionId": 30761,
   "isGpuEnabled": false,
   "isInternetEnabled": true,
   "language": "python",
   "sourceType": "notebook"
  },
  "kernelspec": {
   "display_name": "Python 3",
   "language": "python",
   "name": "python3"
  },
  "language_info": {
   "codemirror_mode": {
    "name": "ipython",
    "version": 3
   },
   "file_extension": ".py",
   "mimetype": "text/x-python",
   "name": "python",
   "nbconvert_exporter": "python",
   "pygments_lexer": "ipython3",
   "version": "3.10.14"
  },
  "papermill": {
   "default_parameters": {},
   "duration": 10.151815,
   "end_time": "2024-09-11T17:22:07.739880",
   "environment_variables": {},
   "exception": null,
   "input_path": "__notebook__.ipynb",
   "output_path": "__notebook__.ipynb",
   "parameters": {},
   "start_time": "2024-09-11T17:21:57.588065",
   "version": "2.6.0"
  }
 },
 "nbformat": 4,
 "nbformat_minor": 5
}
